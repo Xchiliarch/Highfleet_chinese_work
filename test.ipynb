{
 "cells": [
  {
   "cell_type": "code",
   "execution_count": 1,
   "metadata": {},
   "outputs": [],
   "source": [
    "from itertools import chain\n",
    "from xpinyin import Pinyin\n",
    "import os\n",
    "import re\n",
    "p = Pinyin()\n",
    "def to_pinyin(s):\n",
    "    return ''.join(chain.from_iterable(p.get_pinyin(s, tone_marks='numbers') ))"
   ]
  },
  {
   "cell_type": "code",
   "execution_count": 16,
   "metadata": {},
   "outputs": [],
   "source": [
    "tex_name = 'Static11'           #材质贴图名称\n",
    "font_name = 'MC20'              #字体名字\n",
    "\n",
    "coorX = 0                       #起始坐标X\n",
    "coorY = 2460                      #起始坐标Y\n",
    "\n",
    "rectX = 20                      #字符宽度\n",
    "rectY = 20                      #字符高度Y\n",
    "\n",
    "row_num = 51                    #一行字符数"
   ]
  },
  {
   "cell_type": "markdown",
   "metadata": {},
   "source": [
    "## 函数"
   ]
  },
  {
   "cell_type": "code",
   "execution_count": 9,
   "metadata": {},
   "outputs": [],
   "source": [
    "def find_all_chara_text(a):     #输出并返回所有文本出现的单字、符号,以unicode编码排序 All_char.txt  该文档用于检视所有单字与编码检索\n",
    "    f= open(a,encoding='utf-8')\n",
    "    texts = f.read()\n",
    "    f.close()\n",
    "\n",
    "    font =[]\n",
    "    for text in texts:\n",
    "        if( ord(text)>3000 and text not in font):\n",
    "            font.append(text)\n",
    "    #font = sorted(font,key = to_pinyin)   #拼音排序\n",
    "    font = sorted(font)                    #unicode编码排序\n",
    "\n",
    "    #for item in font:\n",
    "        #print(item,end='')\n",
    "    print(f'total length:{len(font)}')\n",
    "\n",
    "    all_char =''\n",
    "    for item in font:\n",
    "        all_char = all_char+item\n",
    "    g = open(f'.\\\\files\\\\{font_name}all_char.txt','w',encoding='utf-8')\n",
    "    g.write(all_char)\n",
    "    g.close()\n",
    "    return font"
   ]
  },
  {
   "cell_type": "code",
   "execution_count": 4,
   "metadata": {},
   "outputs": [],
   "source": [
    "def output_font(text,row_num):  #单字输出到格式化文本 Draw_char.txt. Row_num 为一排字个数  该文档用于PS内绘制贴图\n",
    "    out =''                                         \n",
    "    for i in range(len(text)):\n",
    "        if(i%row_num==0 and i!=0):\n",
    "            out = out+'\\n'+text[i]\n",
    "        else:\n",
    "            out = out+text[i]\n",
    "    f = open(f'.\\\\files\\\\{font_name}draw_char.txt','w',encoding='utf-8')\n",
    "    f.write(out)\n",
    "    f.close()"
   ]
  },
  {
   "cell_type": "code",
   "execution_count": 5,
   "metadata": {},
   "outputs": [],
   "source": [
    "name_lookup =[] \n",
    "def res_registration(font,tex_name,font_name,coorX,coorY,rectX,rectY,row_num):  #生成字库Res、字符编码对应集\n",
    "    #name_lookup =[] \n",
    "    res =   (f'Texture {tex_name}\\n'\n",
    "            '{\\n'\n",
    "            f'filename = Media/Tex/{tex_name}.png\\n'\n",
    "            f'resgroup = 0\\n'\n",
    "            '}\\n')\n",
    "    coor = ''\n",
    "    for i in range(len(font)):                                     \n",
    "        character = font[i]\n",
    "        #print(character)\n",
    "        name = p.get_pinyin(character, tone_marks='numbers')        #获取字符拼音\n",
    "        if ord(character)>65280 or ord(character) <12291:\n",
    "            if name == '—':\n",
    "                name = 'hengang'\n",
    "            elif name == '‘':\n",
    "                name = 'Ldanyinhao'\n",
    "            elif name == '’':\n",
    "                name = 'Rdanyinhao'\n",
    "            elif name == '“':\n",
    "                name = 'Lshuangyinhao'\n",
    "            elif name == '”':\n",
    "                name = 'Rshuangyinhao'\n",
    "            elif name == '…':\n",
    "                name = 'shenglvehao'\n",
    "            elif name == '、':\n",
    "                name = 'dunhao'\n",
    "            elif name == '。':\n",
    "                name = 'juhao'\n",
    "            elif name == '！':\n",
    "                name = 'gantanhao'\n",
    "            elif name == '（':\n",
    "                name = 'Lkuohao'\n",
    "            elif name == '）':\n",
    "                name = 'Rkuohao'\n",
    "            elif name == '，':\n",
    "                name = 'douhao'\n",
    "            elif name == '：':\n",
    "                name = 'maohao'\n",
    "            elif name == '？':\n",
    "                name = 'wenhao'\n",
    "\n",
    "        j = 0\n",
    "        while(1):\n",
    "            fname = name+f'_{j}'\n",
    "            if fname not in name_lookup:\n",
    "                name_lookup.append(fname)\n",
    "                break\n",
    "            j += 1                              #获取字符唯一编码名\n",
    "\n",
    "        if(i%row_num==0 and i!=0):\n",
    "            coorY +=rectY\n",
    "        coorX = (i%row_num)*rectX\n",
    "\n",
    "        res =  res+(\n",
    "            f\"Animation {font_name}_{fname}\\n\"\n",
    "            \"{\\n\"\n",
    "            f\" texture = {tex_name}\\n\"\n",
    "            f\" rect = {coorX},{coorY},{rectX},{rectY}\\n\"\n",
    "            f\" hotspot = {rectX//2},{rectY//2}\\n\"\n",
    "            f\" zorder = 0.000000\\n\"\n",
    "            f\" resgroup = 0\\n\"\n",
    "            f\" frame = 1\\n\"\n",
    "            \"}\\n\"\n",
    "        )                                           #打印Res\n",
    "        coor = coor+fname+'\\n'\n",
    "\n",
    "    f = open(f'{tex_name}_{font_name}.res','w',encoding='utf-8')\n",
    "    f.write(res)\n",
    "    f.close()\n",
    "\n",
    "    g = open(f'.\\\\files\\\\{font_name}lookup.txt','w',encoding='utf-8')\n",
    "    g.write(coor)\n",
    "    g.close()"
   ]
  },
  {
   "cell_type": "code",
   "execution_count": 6,
   "metadata": {},
   "outputs": [],
   "source": [
    "def encode_gen(aa):               #通过chinese.txt生成编码后的english.txt\n",
    "    ds = os.listdir('.\\\\files')\n",
    "    i=0\n",
    "    fonts_name =[]\n",
    "    \n",
    "    for d in ds:\n",
    "        a = re.match('(.*?)lookup.txt',d)\n",
    "        if(a):\n",
    "            fonts_name.append(a.groups()[0])\n",
    "            i+= 1\n",
    "    for name in fonts_name:\n",
    "        f= open(f'files\\\\{name}all_char.txt',encoding='utf-8')         \n",
    "        locals()[f'{name}texts'] = f.read()\n",
    "        f.close()\n",
    "        g= open(f'files\\\\{name}lookup.txt',encoding='utf-8')         \n",
    "        locals()[f'{name}lookup'] = g.read().split('\\n')\n",
    "        g.close()\n",
    "\n",
    "    f= open(aa,encoding='utf-8')\n",
    "    originals = f.read()\n",
    "    f.close()\n",
    "    \n",
    "    trans =[]\n",
    "    default_font_name = 'SH20'\n",
    "    marker1 =0      #$检测\n",
    "    counter =0      #*检测（字体套用范围）\n",
    "    fontname =''\n",
    "    font_name =  default_font_name\n",
    "    for item in originals :\n",
    "        if item =='$':\n",
    "            marker1 =1\n",
    "            continue\n",
    "        if item =='*' and counter ==0:\n",
    "            marker1 =0\n",
    "            counter =1\n",
    "            font_name = fontname\n",
    "            continue\n",
    "        if item =='*' and counter ==1:\n",
    "            counter =0\n",
    "            font_name = default_font_name\n",
    "            fontname =''\n",
    "            continue\n",
    "        if marker1 ==1:\n",
    "            fontname =fontname+ item\n",
    "            continue\n",
    "        texts = locals()[f'{font_name}texts'] \n",
    "        name_lookup = locals()[f'{font_name}lookup'] \n",
    "        if item in texts:\n",
    "            index= name_lookup[texts.index(item)]           #查询单字index\n",
    "            trans.append('{'+f'animation={font_name}_{index}'+'}')\n",
    "        else:\n",
    "            trans.append(item)                              #非汉字直接加入\n",
    "    f= open('english.txt','w',encoding='utf-8')             #输出编码后english.txt\n",
    "    for tran in trans:  \n",
    "        f.write(tran)\n",
    "    f.close()"
   ]
  },
  {
   "cell_type": "markdown",
   "metadata": {},
   "source": [
    "## 运行"
   ]
  },
  {
   "cell_type": "code",
   "execution_count": 18,
   "metadata": {},
   "outputs": [
    {
     "name": "stdout",
     "output_type": "stream",
     "text": [
      "total length:69\n"
     ]
    }
   ],
   "source": [
    "font = find_all_chara_text('a.txt')     "
   ]
  },
  {
   "cell_type": "code",
   "execution_count": 19,
   "metadata": {},
   "outputs": [],
   "source": [
    "output_font(font,row_num)"
   ]
  },
  {
   "cell_type": "code",
   "execution_count": 20,
   "metadata": {},
   "outputs": [],
   "source": [
    "name_lookup =[] \n",
    "res_registration(font,tex_name,font_name,coorX,coorY,rectX,rectY,row_num)"
   ]
  },
  {
   "cell_type": "code",
   "execution_count": 23,
   "metadata": {},
   "outputs": [],
   "source": [
    "encode_gen('chinese.txt')"
   ]
  },
  {
   "cell_type": "markdown",
   "metadata": {},
   "source": [
    "# 测试\n"
   ]
  }
 ],
 "metadata": {
  "kernelspec": {
   "display_name": "Python 3.9.7 ('base')",
   "language": "python",
   "name": "python3"
  },
  "language_info": {
   "codemirror_mode": {
    "name": "ipython",
    "version": 3
   },
   "file_extension": ".py",
   "mimetype": "text/x-python",
   "name": "python",
   "nbconvert_exporter": "python",
   "pygments_lexer": "ipython3",
   "version": "3.9.7"
  },
  "orig_nbformat": 4,
  "vscode": {
   "interpreter": {
    "hash": "88279d2366fe020547cde40dd65aa0e3aa662a6ec1f3ca12d88834876c85e1a6"
   }
  }
 },
 "nbformat": 4,
 "nbformat_minor": 2
}
