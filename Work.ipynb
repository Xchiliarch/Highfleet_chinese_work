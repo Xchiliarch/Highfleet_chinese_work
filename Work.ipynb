{
 "cells": [
  {
   "cell_type": "markdown",
   "metadata": {},
   "source": [
    "本文件为生成汉化文件的源代码，如只想生成默认的汉化（即与Release内相同的汉化文件，只需要Pip安装Requirements.txt后依次运行下列代码，即可在build文件夹内生成所有汉化用文件\n",
    "如想要自己修改汉化内容或添加字体，请根据文件内指示进行操作。\n",
    "\n",
    "Huge thanks to stopnoanime for decrypting the dialog file of Highfleet , localization would never be possible without your work.\n",
    "\n",
    "感谢 Homobanana,Iansniper,Commie-Spy,Rogo921,BI-XY,Xchiliarch,Eistin-Yite,OpaqueArc,KagaJiankui,Suesun-1132,xlmzg,LeberechtSchorner 参与汉化工作。\n",
    "\n",
    "感谢所有参与提交汉化问题的群友。\n",
    "\n",
    "This project can never be done by me alone."
   ]
  },
  {
   "cell_type": "code",
   "execution_count": 1,
   "metadata": {},
   "outputs": [],
   "source": [
    "import HF_Func as HF\n",
    "import re\n"
   ]
  },
  {
   "cell_type": "markdown",
   "metadata": {},
   "source": [
    "### 第一步 输入参数并填写fonts.txt\n",
    "fonts.txt填写例子：A20{coorX,coorY,rectX,rectY} A20：字体名称，可使用除$*及游戏内使用的符号 每种字体输完换行\n",
    "\n",
    "大括号内数据需生成字体Draw_char.txt后在绘图软件内实际情况填写但是必须含大括号及数字。未确定前可使用随机数填充 如 A20{0,0,0,0}\n"
   ]
  },
  {
   "cell_type": "code",
   "execution_count": 2,
   "metadata": {},
   "outputs": [],
   "source": [
    "default_font = 'SH20_SAND'               #确定默认字体   #define the default font\n",
    "row_num = 51                        #贴图一行字符数 #define the chars in a row in Photoshop\n",
    "tex_name = 'Static11'               #材质贴图名称   #the name of the tex file\n",
    "font_file ='fonts.txt'              #字体名字       #the fonts used in the dialog\n",
    "translation_file = 'chinese.txt'    #汉化文件       #the translation of dialog"
   ]
  },
  {
   "cell_type": "markdown",
   "metadata": {},
   "source": [
    "### 第二步 运行字体分析"
   ]
  },
  {
   "cell_type": "code",
   "execution_count": 3,
   "metadata": {},
   "outputs": [
    {
     "name": "stdout",
     "output_type": "stream",
     "text": [
      "SH20_SAND:total length:2087\n",
      "SH20_SAND字符集内字符发生改变，请重新绘制Tex\n",
      "SH20_BLUE:total length:11\n",
      "SH20_YELLOW:total length:44\n",
      "SH20_BLACK:total length:92\n",
      "SH20_BROWN:total length:27\n",
      "SH20_DIRT:total length:20\n",
      "SH20_LSAND:total length:167\n",
      "SH20_RED:total length:34\n",
      "SH20_RED字符集内字符发生改变，请重新绘制Tex\n",
      "SH20_WHITE:total length:473\n",
      "SH40_WHITE:total length:155\n",
      "SH40_SAND:total length:76\n",
      "SH40_SHADOW_WHITE:total length:67\n",
      "SH40_LSAND:total length:3\n",
      "SH65_SAND:total length:2\n",
      "SH65_YELLOW:total length:9\n",
      "MC20_BLACK:total length:220\n",
      "PH20_SAND:total length:0\n",
      "PH20_SAND字符集内字符发生改变，请重新绘制Tex\n",
      "FP20_SAND:total length:0\n",
      "FP20_SAND字符集内字符发生改变，请重新绘制Tex\n"
     ]
    }
   ],
   "source": [
    "HF.check_fonts(translation_file,font_file,default_font)     #汉化文件，字体参数，默认字体     #parameters       \n",
    "f= open(font_file,encoding='utf-8')                         #check_fonts()生成各字体使用情况——除了默认字体      \n",
    "font =  f.read().split('\\n')\n",
    "f.close()\n",
    "fonts = []\n",
    "for i in font:\n",
    "    reg = re.match('(.*?){.*}',i)                     ## 如提示字符集发生变更，需要重新绘制字库贴图，否则游戏内无法应用更新！##\n",
    "    if reg!= None:\n",
    "        fonts.append(reg.groups()[0])  \n",
    "\n",
    "for font_name in fonts:                                     #读取字体名称及参数\n",
    "    print(f'{font_name}:',end='')\n",
    "\n",
    "    if font_name != default_font:                           #非默认字体，读取其usage.txt生成字符集\n",
    "        globals()[f'{font_name}chars'] = HF.find_all_chara_text(f'.\\\\int_files\\\\usage\\\\{font_name}usage.txt',font_name)   #统计所有出现字符，返回字符list 生成 字符名称All_char.txt\n",
    "    else:                                                   #默认字体直接读取汉化文件生成字符集，具有Fallback\n",
    "        globals()[f'{font_name}chars'] = HF.find_all_chara_text(translation_file,font_name)\n",
    "\n",
    "    HF.output_font(globals()[f'{font_name}chars'],row_num,font_name)                               #生成用于绘制贴图的txt  字体名称Draw_char.txt"
   ]
  },
  {
   "cell_type": "markdown",
   "metadata": {},
   "source": [
    "### 第三步 根据build文件夹里生成的Draw_char.txt绘制贴图\n",
    "\n",
    "在build文件夹内的psd文件内添加新的字体\n",
    "\n",
    "此步需要在确定字体各参数：起始坐标X，起始坐标Y，字符宽度及字符高度并填入fonts.txt\n",
    "\n",
    "教程参考https://steamcommunity.com/sharedfiles/filedetails/?id=2709021320"
   ]
  },
  {
   "cell_type": "markdown",
   "metadata": {},
   "source": [
    "### 第四步 生成各字体Res"
   ]
  },
  {
   "cell_type": "code",
   "execution_count": 4,
   "metadata": {},
   "outputs": [
    {
     "name": "stdout",
     "output_type": "stream",
     "text": [
      "Static11_SH20_SAND.res generated\n",
      "Static11_SH20_BLUE.res generated\n",
      "Static11_SH20_YELLOW.res generated\n",
      "Static11_SH20_BLACK.res generated\n",
      "Static11_SH20_BROWN.res generated\n",
      "Static11_SH20_DIRT.res generated\n",
      "Static11_SH20_LSAND.res generated\n",
      "Static11_SH20_RED.res generated\n",
      "Static11_SH20_WHITE.res generated\n",
      "Static11_SH40_WHITE.res generated\n",
      "Static11_SH40_SAND.res generated\n",
      "Static11_SH40_SHADOW_WHITE.res generated\n",
      "Static11_SH40_LSAND.res generated\n",
      "Static11_SH65_SAND.res generated\n",
      "Static11_SH65_YELLOW.res generated\n",
      "Static11_MC20_BLACK.res generated\n",
      "Static11_PH20_SAND.res generated\n",
      "Static11_FP20_SAND.res generated\n"
     ]
    }
   ],
   "source": [
    "for font_name in fonts:                                     #读取字体名称及参数\n",
    "    params = HF.font_params(font_file,font_name)\n",
    "    coorX = int(params[1])                                  #起始坐标X\n",
    "    coorY = int(params[2])                                  #起始坐标Y\n",
    "    rectX = int(params[3])                                  #字符宽度\n",
    "    rectY = int(params[4])                                  #字符高度\n",
    "\n",
    "    name_lookup =[] \n",
    "    HF.res_registration(globals()[f'{font_name}chars'],tex_name,font_name,coorX,coorY,rectX,rectY,row_num)   #生成 字体名称.res与字体lookup.txt\n",
    "    print(f'{tex_name}_{font_name}.res generated')"
   ]
  },
  {
   "cell_type": "markdown",
   "metadata": {},
   "source": [
    "### 第五步 生成总res、english.seria_enc"
   ]
  },
  {
   "cell_type": "code",
   "execution_count": 5,
   "metadata": {},
   "outputs": [],
   "source": [
    "HF.res_compile(tex_name)        #生成Res\n",
    "HF.encode_gen(translation_file,default_font) #生成编码后的english.txt\n",
    "\n",
    "f= open('.\\\\int_files\\\\english.txt','rb')       #生成english.seria_enc 源代码来自https://github.com/stopnoanime/highfleet-dialog                \n",
    "chars =  f.read()\n",
    "f.close()\n",
    "b = 2531011\n",
    "f= open('.\\\\build\\\\english.seria_enc','wb')  \n",
    "for item in chars:\n",
    "    if item ==13:\n",
    "        continue\n",
    "    a = ((b ^ (b >> 15) ^ item) & 0xff)\n",
    "    f.write(a.to_bytes(1,byteorder='little', signed=False))\n",
    "    b += 214013\n",
    "f.close()\n"
   ]
  },
  {
   "cell_type": "markdown",
   "metadata": {},
   "source": [
    "### 清除变量"
   ]
  },
  {
   "cell_type": "code",
   "execution_count": 12,
   "metadata": {},
   "outputs": [],
   "source": [
    "%reset -f"
   ]
  },
  {
   "cell_type": "code",
   "execution_count": 31,
   "metadata": {},
   "outputs": [
    {
     "data": {
      "text/plain": [
       "8212"
      ]
     },
     "execution_count": 31,
     "metadata": {},
     "output_type": "execute_result"
    }
   ],
   "source": [
    "ord(chars[0])"
   ]
  },
  {
   "cell_type": "markdown",
   "metadata": {},
   "source": [
    "## test field"
   ]
  },
  {
   "cell_type": "code",
   "execution_count": 4,
   "metadata": {},
   "outputs": [
    {
     "name": "stderr",
     "output_type": "stream",
     "text": [
      "100%|██████████| 220/220 [00:00<00:00, 948.13it/s]\n"
     ]
    }
   ],
   "source": [
    "f= open('.\\\\int_files\\\\font\\\\MC20_Blackall_char.txt','r',encoding='utf-8')       #生成english.seria_enc 源代码来自https://github.com/stopnoanime/highfleet-dialog                \n",
    "chars =  f.read()\n",
    "f.close()\n",
    "import os\n",
    "import pygame\n",
    "from tqdm import tqdm\n",
    "chinese_dir = '字符'\n",
    "if not os.path.exists(chinese_dir):\n",
    "    os.mkdir(chinese_dir)\n",
    "\n",
    "pygame.init()\n",
    "font = pygame.font.Font(\"SourceHanSansCN-Heavy.otf\", 20)  \n",
    "for i in tqdm(range(len(chars))):\n",
    "    rtext = font.render(chars[i], True, (0, 0, 0))\n",
    "    rtext.set_alpha(127)\n",
    "    pygame.image.save(rtext, os.path.join(chinese_dir, chars[i] + \".png\"))"
   ]
  }
 ],
 "metadata": {
  "kernelspec": {
   "display_name": "Python 3.9.7 ('base')",
   "language": "python",
   "name": "python3"
  },
  "language_info": {
   "codemirror_mode": {
    "name": "ipython",
    "version": 3
   },
   "file_extension": ".py",
   "mimetype": "text/x-python",
   "name": "python",
   "nbconvert_exporter": "python",
   "pygments_lexer": "ipython3",
   "version": "3.9.7"
  },
  "orig_nbformat": 4,
  "vscode": {
   "interpreter": {
    "hash": "88279d2366fe020547cde40dd65aa0e3aa662a6ec1f3ca12d88834876c85e1a6"
   }
  }
 },
 "nbformat": 4,
 "nbformat_minor": 2
}
